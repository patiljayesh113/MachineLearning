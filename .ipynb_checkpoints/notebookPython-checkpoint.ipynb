{
 "cells": [
  {
   "cell_type": "code",
   "execution_count": null,
   "id": "0fb30314-d0ea-4c6e-a1e8-545a4c3dc94d",
   "metadata": {},
   "outputs": [],
   "source": [
    "import pandas as pd\n",
    "\n",
    "csvFile = pd.read_csv(\"/Users/apple/Desktop/PythonCodes/movies_sentiment.csv\")\n",
    "\n",
    "#csvFile['review'][2]\n",
    "\n",
    "csvFile['movie_name'] = csvFile['movie_name'].str.lower()\n",
    "\n",
    "csvFile\n",
    "\n",
    "#print(csvFile.head())\n",
    "\n",
    "\n",
    "\n",
    "\n",
    "\n"
   ]
  },
  {
   "cell_type": "code",
   "execution_count": null,
   "id": "dab61754",
   "metadata": {},
   "outputs": [],
   "source": [
    "import re\n",
    "\n",
    "text = \"\"\"<p>once upon a TIME, in a digital world 🌍 filled with endless possibilities, there was a curious learner named jayesh. he loved exploring TECH, coding in python 🐍, and solving SOLR search challenges. one day, he typed \"hl=true\" at exactly 11:45 AM ⏰ and wondered why his snippets were acting strangely. instead of giving up, he decided to TEST multiple <b>configurations</b>, tweaking <i>fragsize=300</i> and trying different HIGHLIGHTERS. sometimes the results came with &lt;em&gt; tags, other times with <span class=\"highlight\">custom spans</span>. he laughed 😂 but also felt a bit FRUSTRATED. after 7 or 8 attempts, he realized the key was not brute force but UNDERSTANDING the METHOD. he wrote down NOTES 📒, documenting that \"ORIGINAL\" ignores fragments while \"UNIFIED\" respects them. outside his window, birds chirped 🐦, and he felt HOPEFUL. even though the SYSTEM said \"read-only filesystem ,\" he saved his file to /mnt/data/ instead of /. by 9:59 pm, SUCCESS 🎉 was his. his JOURNEY reminded him that persistence + patience = RESULTS. and so, with every lowercase letter, EVERY UPPERCASE SHOUT, and all the 123 numbers he tested, he grew STRONGER. at the end, he whispered softly: <u>never stop learning</u> 💡.</p>\"\"\"\n",
    "\n",
    "def removeTag(text):\n",
    "    pattern = re.compile('<.*?>')\n",
    "    return pattern.sub(r'', text)\n",
    "\n",
    "removeTag(text)\n",
    "\n",
    "print(csvFile.head())\n",
    "\n",
    "csvFile['movie_name'].apply(removeTag)\n",
    "\n",
    "\n",
    "\n"
   ]
  },
  {
   "cell_type": "code",
   "execution_count": 54,
   "id": "c28e445b",
   "metadata": {},
   "outputs": [
    {
     "data": {
      "text/plain": [
       "'I was reading an article about Python yesterday on  and found it super helpful. Then I checked the official documentation at  for more details.'"
      ]
     },
     "execution_count": 54,
     "metadata": {},
     "output_type": "execute_result"
    }
   ],
   "source": [
    "urlText = \"\"\"I was reading an article about Python yesterday on https://realpython.com and found it super helpful. Then I checked the official documentation at https://docs.python.org/3/ for more details.\"\"\"\n",
    "\n",
    "def removeUrl(urlText):\n",
    "    pattern = re.compile(r'https?://\\S+|www\\.\\S+')\n",
    "    return pattern.sub(r'', urlText)\n",
    "\n",
    "removeUrl(urlText)"
   ]
  },
  {
   "cell_type": "code",
   "execution_count": null,
   "id": "7ef4495f",
   "metadata": {},
   "outputs": [
    {
     "data": {
      "text/plain": [
       "'Wow Can you believe it Yesterday I bought apples oranges bananas and—guess what—mangoes too\\n“Are you serious” asked my friend I replied “Yes of course”\\nWell… it wasn’t cheap ₹250 to be exact but it was totally worth it\\nSo what’s next A fruit salad cake or maybe juice—hmm'"
      ]
     },
     "execution_count": 60,
     "metadata": {},
     "output_type": "execute_result"
    }
   ],
   "source": [
    "import string, time\n",
    "string.punctuation\n",
    "\n",
    "# print(string.punctuation)\n",
    "# !\"#$%&'()*+,-./:;<=>?@[\\]^_`{|}~\n",
    "\n",
    "puntuationText = \"\"\"Wow! Can you believe it? Yesterday, I bought apples, oranges, bananas, and—guess what—mangoes, too.\n",
    "“Are you serious?” asked my friend. I replied: “Yes, of course!”\n",
    "Well… it wasn’t cheap (₹250, to be exact), but it was totally worth it.\n",
    "So, what’s next? A fruit salad, cake, or maybe juice—hmm?\"\"\"\n",
    "\n",
    "exclude = string.punctuation\n",
    "\n",
    "def removePunct(puntuationText):\n",
    "    for char in exclude:\n",
    "        puntuationText = puntuationText.replace(char, '')\n",
    "    return puntuationText\n",
    "\n",
    "removePunct(puntuationText)\n",
    "\n",
    "\n",
    "\n",
    "# This is to slow to do it fast we need to do with\n",
    "# text.translate(str.maketrans('','',exlcude))"
   ]
  },
  {
   "cell_type": "code",
   "execution_count": 62,
   "id": "02779f48",
   "metadata": {},
   "outputs": [
    {
     "data": {
      "text/plain": [
       "'Wait... im coming to Way To Go!'"
      ]
     },
     "execution_count": 62,
     "metadata": {},
     "output_type": "execute_result"
    }
   ],
   "source": [
    "# chat word treatment (in chatbots) like gn replace with Good Night\n",
    "\n",
    "abbreviations = {\n",
    "    \"A3\": \"Anytime, Anywhere, Anyplace\",\n",
    "    \"ADIH\": \"Another Day In Hell\",\n",
    "    \"AFK\": \"Away From Keyboard\",\n",
    "    \"AFAIK\": \"As Far As I Know\",\n",
    "    \"ASAP\": \"As Soon As Possible\",\n",
    "    \"ASL\": \"Age, Sex, Location\",\n",
    "    \"ATK\": \"At The Keyboard\",\n",
    "    \"ATM\": \"At The Moment\",\n",
    "    \"BAE\": \"Before Anyone Else\",\n",
    "    \"BAK\": \"Back At Keyboard\",\n",
    "    \"BBL\": \"Be Back Later\",\n",
    "    \"BBS\": \"Be Back Soon\",\n",
    "    \"BFN\": \"Bye For Now\",\n",
    "    \"B4N\": \"Bye For Now\",\n",
    "    \"BRB\": \"Be Right Back\",\n",
    "    \"BRUH\": \"Bro\",\n",
    "    \"BRT\": \"Be Right There\",\n",
    "    \"BSAAW\": \"Big Smile And A Wink\",\n",
    "    \"BTW\": \"By The Way\",\n",
    "    \"BWL\": \"Bursting With Laughter\",\n",
    "    \"CSL\": \"Can’t Stop Laughing\",\n",
    "    \"CU\": \"See You\",\n",
    "    \"CUL8R\": \"See You Later\",\n",
    "    \"CYA\": \"See You\",\n",
    "    \"DM\": \"Direct Message\",\n",
    "    \"FAQ\": \"Frequently Asked Questions\",\n",
    "    \"FC\": \"Fingers Crossed\",\n",
    "    \"FIMH\": \"Forever In My Heart\",\n",
    "    \"FOMO\": \"Fear Of Missing Out\",\n",
    "    \"FR\": \"For Real\",\n",
    "    \"FWIW\": \"For What It's Worth\",\n",
    "    \"FYP\": \"For You Page\",\n",
    "    \"FYI\": \"For Your Information\",\n",
    "    \"G9\": \"Genius\",\n",
    "    \"GAL\": \"Get A Life\",\n",
    "    \"GG\": \"Good Game\",\n",
    "    \"GMTA\": \"Great Minds Think Alike\",\n",
    "    \"GN\": \"Good Night\",\n",
    "    \"GOAT\": \"Greatest Of All Time\",\n",
    "    \"GR8\": \"Great!\",\n",
    "    \"HBD\": \"Happy Birthday\",\n",
    "    \"IC\": \"I See\",\n",
    "    \"ICQ\": \"I Seek You\",\n",
    "    \"IDC\": \"I Don’t Care\",\n",
    "    \"IDK\": \"I Don't Know\",\n",
    "    \"IFYP\": \"I Feel Your Pain\",\n",
    "    \"ILU\": \"I Love You\",\n",
    "    \"ILY\": \"I Love You\",\n",
    "    \"IMHO\": \"In My Honest/Humble Opinion\",\n",
    "    \"IMU\": \"I Miss You\",\n",
    "    \"IMO\": \"In My Opinion\",\n",
    "    \"IOW\": \"In Other Words\",\n",
    "    \"IRL\": \"In Real Life\",\n",
    "    \"IYKYK\": \"If You Know, You Know\",\n",
    "    \"JK\": \"Just Kidding\",\n",
    "    \"KISS\": \"Keep It Simple, Stupid\",\n",
    "    \"L\": \"Loss\",\n",
    "    \"L8R\": \"Later\",\n",
    "    \"LDR\": \"Long Distance Relationship\",\n",
    "    \"LMK\": \"Let Me Know\",\n",
    "    \"LMAO\": \"Laughing My A** Off\",\n",
    "    \"LOL\": \"Laughing Out Loud\",\n",
    "    \"LTNS\": \"Long Time No See\",\n",
    "    \"M8\": \"Mate\",\n",
    "    \"MFW\": \"My Face When\",\n",
    "    \"MID\": \"Mediocre\",\n",
    "    \"MRW\": \"My Reaction When\",\n",
    "    \"MTE\": \"My Thoughts Exactly\",\n",
    "    \"NVM\": \"Never Mind\",\n",
    "    \"NRN\": \"No Reply Necessary\",\n",
    "    \"NPC\": \"Non-Player Character\",\n",
    "    \"OIC\": \"Oh I See\",\n",
    "    \"OP\": \"Overpowered\",\n",
    "    \"PITA\": \"Pain In The A**\",\n",
    "    \"POV\": \"Point Of View\",\n",
    "    \"PRT\": \"Party\",\n",
    "    \"PRW\": \"Parents Are Watching\",\n",
    "    \"ROFL\": \"Rolling On The Floor Laughing\",\n",
    "    \"ROFLOL\": \"Rolling On The Floor Laughing Out Loud\",\n",
    "    \"ROTFLMAO\": \"Rolling On The Floor Laughing My A** Off\",\n",
    "    \"RN\": \"Right Now\",\n",
    "    \"SK8\": \"Skate\",\n",
    "    \"STATS\": \"Your Sex And Age\",\n",
    "    \"SUS\": \"Suspicious\",\n",
    "    \"TBH\": \"To Be Honest\",\n",
    "    \"TFW\": \"That Feeling When\",\n",
    "    \"THX\": \"Thank You\",\n",
    "    \"TIME\": \"Tears In My Eyes\",\n",
    "    \"TLDR\": \"Too Long, Didn’t Read\",\n",
    "    \"TNTL\": \"Trying Not To Laugh\",\n",
    "    \"TTFN\": \"Ta-Ta For Now!\",\n",
    "    \"TTYL\": \"Talk To You Later\",\n",
    "    \"U\": \"You\",\n",
    "    \"U2\": \"You Too\",\n",
    "    \"U4E\": \"Yours For Ever\",\n",
    "    \"W\": \"Win\",\n",
    "    \"W8\": \"Wait...\",\n",
    "    \"WB\": \"Welcome Back\",\n",
    "    \"WTF\": \"What The F**k\",\n",
    "    \"WTG\": \"Way To Go!\",\n",
    "    \"WUF\": \"Where Are You From?\",\n",
    "    \"WYD\": \"What You Doing?\",\n",
    "    \"WYWH\": \"Wish You Were Here\",\n",
    "    \"ZZZ\": \"Sleeping, Bored, Tired\"\n",
    "}\n",
    "\n",
    "def chatConv(text):\n",
    "    newText = []\n",
    "    for i in text.split():\n",
    "        if i.upper() in abbreviations:\n",
    "            newText.append(abbreviations[i.upper()])\n",
    "        else:\n",
    "            newText.append(i)\n",
    "    return \" \".join(newText)\n",
    "\n",
    "\n",
    "chatConv('W8 im coming to WTG')\n"
   ]
  },
  {
   "cell_type": "code",
   "execution_count": null,
   "id": "54e24d73",
   "metadata": {},
   "outputs": [],
   "source": [
    "from textblob import Te\n",
    "\n",
    "text = \"plese check that this is not we are suppse to do\""
   ]
  }
 ],
 "metadata": {
  "kernelspec": {
   "display_name": "venv (3.13.7)",
   "language": "python",
   "name": "python3"
  },
  "language_info": {
   "codemirror_mode": {
    "name": "ipython",
    "version": 3
   },
   "file_extension": ".py",
   "mimetype": "text/x-python",
   "name": "python",
   "nbconvert_exporter": "python",
   "pygments_lexer": "ipython3",
   "version": "3.13.7"
  }
 },
 "nbformat": 4,
 "nbformat_minor": 5
}
