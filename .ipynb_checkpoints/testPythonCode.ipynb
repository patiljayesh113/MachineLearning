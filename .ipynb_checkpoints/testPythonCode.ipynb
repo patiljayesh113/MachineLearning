{
 "cells": [
  {
   "cell_type": "code",
   "execution_count": null,
   "id": "8ab96f10",
   "metadata": {},
   "outputs": [],
   "source": [
    "print(\"Hello World\")"
   ]
  },
  {
   "cell_type": "code",
   "execution_count": 13,
   "id": "f30fe084",
   "metadata": {},
   "outputs": [
    {
     "name": "stdout",
     "output_type": "stream",
     "text": [
      "1000\n",
      "3.8823454\n",
      "False\n",
      "this is jd\n",
      "I'm a search engineer want to become \\  ML engineer as well\n"
     ]
    }
   ],
   "source": [
    "sudent_count = 1000\n",
    "print(sudent_count)\n",
    "\n",
    "rating = 3.8823454\n",
    "print(rating)\n",
    "\n",
    "is_published = False;\n",
    "\n",
    "print(is_published)\n",
    "\n",
    "message = \"\"\"this is jd\n",
    "I'm a search engineer want to become \\\\  ML engineer as well\"\"\"\n",
    "\n",
    "print(message)"
   ]
  },
  {
   "cell_type": "code",
   "execution_count": 18,
   "id": "92226e39",
   "metadata": {},
   "outputs": [
    {
     "name": "stdout",
     "output_type": "stream",
     "text": [
      "l\n",
      "this \n",
      "this is jd\n",
      "I'm a search engineer want to become \\  ML engineer as well\n"
     ]
    }
   ],
   "source": [
    "len(message)\n",
    "\n",
    "print(message[-1])\n",
    "\n",
    "print(message[0:5])\n",
    "\n",
    "print(message[0:])"
   ]
  },
  {
   "cell_type": "code",
   "execution_count": 20,
   "id": "098b3e40",
   "metadata": {},
   "outputs": [
    {
     "name": "stdout",
     "output_type": "stream",
     "text": [
      "6 4\n"
     ]
    }
   ],
   "source": [
    "first = \"jayesh\"\n",
    "last = \"patil\"\n",
    "\n",
    "full = f\"{len(first)} {2 + 2}\"\n",
    "\n",
    "print(full)"
   ]
  },
  {
   "cell_type": "code",
   "execution_count": null,
   "id": "83512187",
   "metadata": {},
   "outputs": [
    {
     "name": "stdout",
     "output_type": "stream",
     "text": [
      "THIS IS JD\n",
      "I'M A SEARCH ENGINEER WANT TO BECOME \\  ML ENGINEER AS WELL\n",
      "False\n",
      "8\n",
      "True\n",
      "False\n",
      "True\n"
     ]
    }
   ],
   "source": [
    "#Strings\n",
    "\n",
    "print(message.upper())\n",
    "\n",
    "print(message.isupper())\n",
    "\n",
    "print(message.find(\"jd\"))\n",
    "\n",
    "print(\"jd\" in message)\n",
    "\n",
    "print(\"jayesh\" in message)\n",
    "\n",
    "print(\"swift\" not in message)"
   ]
  },
  {
   "cell_type": "code",
   "execution_count": null,
   "id": "6dc1508d",
   "metadata": {},
   "outputs": [
    {
     "name": "stdout",
     "output_type": "stream",
     "text": [
      "3.3333333333333335\n",
      "3\n",
      "1000\n"
     ]
    }
   ],
   "source": [
    "#Numbers \n",
    "\n",
    "print(10 / 3)\n",
    "print(10 // 3)\n",
    "\n",
    "print( 10 ** 3 )\n",
    "\n",
    "print()\n"
   ]
  },
  {
   "cell_type": "code",
   "execution_count": null,
   "id": "b2373dd0",
   "metadata": {},
   "outputs": [],
   "source": []
  },
  {
   "cell_type": "code",
   "execution_count": null,
   "id": "2a7f6259",
   "metadata": {},
   "outputs": [],
   "source": [
    "friends = []"
   ]
  }
 ],
 "metadata": {
  "kernelspec": {
   "display_name": "venv (3.13.7)",
   "language": "python",
   "name": "python3"
  },
  "language_info": {
   "codemirror_mode": {
    "name": "ipython",
    "version": 3
   },
   "file_extension": ".py",
   "mimetype": "text/x-python",
   "name": "python",
   "nbconvert_exporter": "python",
   "pygments_lexer": "ipython3",
   "version": "3.13.7"
  }
 },
 "nbformat": 4,
 "nbformat_minor": 5
}
